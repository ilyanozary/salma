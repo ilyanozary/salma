{
 "cells": [
  {
   "metadata": {},
   "cell_type": "markdown",
   "source": [
    "# This is a sample Jupyter Notebook\n",
    "\n",
    "Below is an example of a code cell. \n",
    "Put your cursor into the cell and press Shift+Enter to execute it and select the next one, or click 'Run Cell' button.\n",
    "\n",
    "Press Double Shift to search everywhere for classes, files, tool windows, actions, and settings.\n",
    "\n",
    "To learn more about Jupyter Notebooks in PyCharm, see [help](https://www.jetbrains.com/help/pycharm/ipython-notebook-support.html).\n",
    "For an overview of PyCharm, go to Help -> Learn IDE features or refer to [our documentation](https://www.jetbrains.com/help/pycharm/getting-started.html)."
   ],
   "id": "8a77807f92f26ee"
  },
  {
   "metadata": {
    "ExecuteTime": {
     "end_time": "2024-11-23T15:00:48.767255Z",
     "start_time": "2024-11-23T15:00:48.764898Z"
    }
   },
   "cell_type": "code",
   "source": [
    "import pandas as pd\n",
    "import numpy as np\n",
    "from sklearn.ensemble import GradientBoostingClassifier\n",
    "import json\n",
    "import matplotlib.pyplot as plt\n",
    "import networkx as nx\n",
    "from sklearn.model_selection import train_test_split"
   ],
   "id": "fbc121e30a2defb3",
   "outputs": [],
   "execution_count": 28
  },
  {
   "metadata": {
    "ExecuteTime": {
     "end_time": "2024-11-23T14:53:52.812875Z",
     "start_time": "2024-11-23T14:53:52.797646Z"
    }
   },
   "cell_type": "code",
   "source": [
    "data = pd.read_csv('data/valid.json')\n",
    "data.head()"
   ],
   "id": "c0aa5036d536ad6b",
   "outputs": [
    {
     "data": {
      "text/plain": [
       "  [{\"targets\": \"0\"   \"graph\": [[1   0   0]   [0   5   2]]  \\\n",
       "0  {\"targets\": \"0\"   \"graph\": [[1   0   0]   [0   5   2]]   \n",
       "1  {\"targets\": \"0\"   \"graph\": [[1   0   0]   [0   5   2]]   \n",
       "2  {\"targets\": \"0\"   \"graph\": [[1   0   0]   [0   0   2]]   \n",
       "3  {\"targets\": \"0\"   \"graph\": [[1   0   0]   [0   0   2]]   \n",
       "4  {\"targets\": \"0\"   \"graph\": [[1   0   0]   [0   0   2]]   \n",
       "\n",
       "     \"contract_name\": \"15.sol\"   \"node_features\": [[0   1  ...   0.96   0.97  \\\n",
       "0    \"contract_name\": \"15.sol\"   \"node_features\": [[0   1  ...      0      0   \n",
       "1    \"contract_name\": \"15.sol\"   \"node_features\": [[0   1  ...      0      0   \n",
       "2   \"contract_name\": \"223.sol\"   \"node_features\": [[0   1  ...      0      0   \n",
       "3   \"contract_name\": \"223.sol\"   \"node_features\": [[0   1  ...      0      0   \n",
       "4   \"contract_name\": \"223.sol\"   \"node_features\": [[0   1  ...      0      0   \n",
       "\n",
       "    0.98   0.99   0.100   0.101   0.102   0.103   0]]}  Unnamed: 131  \n",
       "0      0      0       0       0       0       0   0]]}           NaN  \n",
       "1      0      0       0       0       0       0   0]]}           NaN  \n",
       "2      0      0       0       0       0       0   0]]}           NaN  \n",
       "3      0      0       0       0       0       0   0]]}           NaN  \n",
       "4      0      0       0       0       0       0   0]]}           NaN  \n",
       "\n",
       "[5 rows x 132 columns]"
      ],
      "text/html": [
       "<div>\n",
       "<style scoped>\n",
       "    .dataframe tbody tr th:only-of-type {\n",
       "        vertical-align: middle;\n",
       "    }\n",
       "\n",
       "    .dataframe tbody tr th {\n",
       "        vertical-align: top;\n",
       "    }\n",
       "\n",
       "    .dataframe thead th {\n",
       "        text-align: right;\n",
       "    }\n",
       "</style>\n",
       "<table border=\"1\" class=\"dataframe\">\n",
       "  <thead>\n",
       "    <tr style=\"text-align: right;\">\n",
       "      <th></th>\n",
       "      <th>[{\"targets\": \"0\"</th>\n",
       "      <th>\"graph\": [[1</th>\n",
       "      <th>0</th>\n",
       "      <th>0]</th>\n",
       "      <th>[0</th>\n",
       "      <th>5</th>\n",
       "      <th>2]]</th>\n",
       "      <th>\"contract_name\": \"15.sol\"</th>\n",
       "      <th>\"node_features\": [[0</th>\n",
       "      <th>1</th>\n",
       "      <th>...</th>\n",
       "      <th>0.96</th>\n",
       "      <th>0.97</th>\n",
       "      <th>0.98</th>\n",
       "      <th>0.99</th>\n",
       "      <th>0.100</th>\n",
       "      <th>0.101</th>\n",
       "      <th>0.102</th>\n",
       "      <th>0.103</th>\n",
       "      <th>0]]}</th>\n",
       "      <th>Unnamed: 131</th>\n",
       "    </tr>\n",
       "  </thead>\n",
       "  <tbody>\n",
       "    <tr>\n",
       "      <th>0</th>\n",
       "      <td>{\"targets\": \"0\"</td>\n",
       "      <td>\"graph\": [[1</td>\n",
       "      <td>0</td>\n",
       "      <td>0]</td>\n",
       "      <td>[0</td>\n",
       "      <td>5</td>\n",
       "      <td>2]]</td>\n",
       "      <td>\"contract_name\": \"15.sol\"</td>\n",
       "      <td>\"node_features\": [[0</td>\n",
       "      <td>1</td>\n",
       "      <td>...</td>\n",
       "      <td>0</td>\n",
       "      <td>0</td>\n",
       "      <td>0</td>\n",
       "      <td>0</td>\n",
       "      <td>0</td>\n",
       "      <td>0</td>\n",
       "      <td>0</td>\n",
       "      <td>0</td>\n",
       "      <td>0]]}</td>\n",
       "      <td>NaN</td>\n",
       "    </tr>\n",
       "    <tr>\n",
       "      <th>1</th>\n",
       "      <td>{\"targets\": \"0\"</td>\n",
       "      <td>\"graph\": [[1</td>\n",
       "      <td>0</td>\n",
       "      <td>0]</td>\n",
       "      <td>[0</td>\n",
       "      <td>5</td>\n",
       "      <td>2]]</td>\n",
       "      <td>\"contract_name\": \"15.sol\"</td>\n",
       "      <td>\"node_features\": [[0</td>\n",
       "      <td>1</td>\n",
       "      <td>...</td>\n",
       "      <td>0</td>\n",
       "      <td>0</td>\n",
       "      <td>0</td>\n",
       "      <td>0</td>\n",
       "      <td>0</td>\n",
       "      <td>0</td>\n",
       "      <td>0</td>\n",
       "      <td>0</td>\n",
       "      <td>0]]}</td>\n",
       "      <td>NaN</td>\n",
       "    </tr>\n",
       "    <tr>\n",
       "      <th>2</th>\n",
       "      <td>{\"targets\": \"0\"</td>\n",
       "      <td>\"graph\": [[1</td>\n",
       "      <td>0</td>\n",
       "      <td>0]</td>\n",
       "      <td>[0</td>\n",
       "      <td>0</td>\n",
       "      <td>2]]</td>\n",
       "      <td>\"contract_name\": \"223.sol\"</td>\n",
       "      <td>\"node_features\": [[0</td>\n",
       "      <td>1</td>\n",
       "      <td>...</td>\n",
       "      <td>0</td>\n",
       "      <td>0</td>\n",
       "      <td>0</td>\n",
       "      <td>0</td>\n",
       "      <td>0</td>\n",
       "      <td>0</td>\n",
       "      <td>0</td>\n",
       "      <td>0</td>\n",
       "      <td>0]]}</td>\n",
       "      <td>NaN</td>\n",
       "    </tr>\n",
       "    <tr>\n",
       "      <th>3</th>\n",
       "      <td>{\"targets\": \"0\"</td>\n",
       "      <td>\"graph\": [[1</td>\n",
       "      <td>0</td>\n",
       "      <td>0]</td>\n",
       "      <td>[0</td>\n",
       "      <td>0</td>\n",
       "      <td>2]]</td>\n",
       "      <td>\"contract_name\": \"223.sol\"</td>\n",
       "      <td>\"node_features\": [[0</td>\n",
       "      <td>1</td>\n",
       "      <td>...</td>\n",
       "      <td>0</td>\n",
       "      <td>0</td>\n",
       "      <td>0</td>\n",
       "      <td>0</td>\n",
       "      <td>0</td>\n",
       "      <td>0</td>\n",
       "      <td>0</td>\n",
       "      <td>0</td>\n",
       "      <td>0]]}</td>\n",
       "      <td>NaN</td>\n",
       "    </tr>\n",
       "    <tr>\n",
       "      <th>4</th>\n",
       "      <td>{\"targets\": \"0\"</td>\n",
       "      <td>\"graph\": [[1</td>\n",
       "      <td>0</td>\n",
       "      <td>0]</td>\n",
       "      <td>[0</td>\n",
       "      <td>0</td>\n",
       "      <td>2]]</td>\n",
       "      <td>\"contract_name\": \"223.sol\"</td>\n",
       "      <td>\"node_features\": [[0</td>\n",
       "      <td>1</td>\n",
       "      <td>...</td>\n",
       "      <td>0</td>\n",
       "      <td>0</td>\n",
       "      <td>0</td>\n",
       "      <td>0</td>\n",
       "      <td>0</td>\n",
       "      <td>0</td>\n",
       "      <td>0</td>\n",
       "      <td>0</td>\n",
       "      <td>0]]}</td>\n",
       "      <td>NaN</td>\n",
       "    </tr>\n",
       "  </tbody>\n",
       "</table>\n",
       "<p>5 rows × 132 columns</p>\n",
       "</div>"
      ]
     },
     "execution_count": 8,
     "metadata": {},
     "output_type": "execute_result"
    }
   ],
   "execution_count": 8
  },
  {
   "metadata": {
    "ExecuteTime": {
     "end_time": "2024-11-23T14:53:53.162695Z",
     "start_time": "2024-11-23T14:53:53.159634Z"
    }
   },
   "cell_type": "code",
   "source": "data.columns",
   "id": "f2be0104c204ac7",
   "outputs": [
    {
     "data": {
      "text/plain": [
       "Index(['[{\"targets\": \"0\"', ' \"graph\": [[1', ' 0', ' 0]', ' [0', ' 5', ' 2]]',\n",
       "       ' \"contract_name\": \"15.sol\"', ' \"node_features\": [[0', ' 1',\n",
       "       ...\n",
       "       ' 0.96', ' 0.97', ' 0.98', ' 0.99', ' 0.100', ' 0.101', ' 0.102',\n",
       "       ' 0.103', ' 0]]}', 'Unnamed: 131'],\n",
       "      dtype='object', length=132)"
      ]
     },
     "execution_count": 9,
     "metadata": {},
     "output_type": "execute_result"
    }
   ],
   "execution_count": 9
  },
  {
   "metadata": {
    "ExecuteTime": {
     "end_time": "2024-11-23T14:53:53.440484Z",
     "start_time": "2024-11-23T14:53:53.432469Z"
    }
   },
   "cell_type": "code",
   "source": "data.info()",
   "id": "c3cc80c447ae4cfc",
   "outputs": [
    {
     "name": "stdout",
     "output_type": "stream",
     "text": [
      "<class 'pandas.core.frame.DataFrame'>\n",
      "RangeIndex: 333 entries, 0 to 332\n",
      "Columns: 132 entries, [{\"targets\": \"0\" to Unnamed: 131\n",
      "dtypes: float64(1), int64(119), object(12)\n",
      "memory usage: 343.5+ KB\n"
     ]
    }
   ],
   "execution_count": 10
  },
  {
   "metadata": {
    "ExecuteTime": {
     "end_time": "2024-11-23T14:53:53.974799Z",
     "start_time": "2024-11-23T14:53:53.971951Z"
    }
   },
   "cell_type": "code",
   "source": "file_path = 'data/valid.json'",
   "id": "4279f83d2ae8dd8e",
   "outputs": [],
   "execution_count": 11
  },
  {
   "metadata": {
    "ExecuteTime": {
     "end_time": "2024-11-23T14:53:54.371791Z",
     "start_time": "2024-11-23T14:53:54.365876Z"
    }
   },
   "cell_type": "code",
   "source": [
    "with open(file_path, 'r') as f:\n",
    "    data = json.load(f)"
   ],
   "id": "db34235bfa9cf5ad",
   "outputs": [],
   "execution_count": 12
  },
  {
   "metadata": {
    "ExecuteTime": {
     "end_time": "2024-11-23T14:54:41.148632Z",
     "start_time": "2024-11-23T14:54:41.143558Z"
    }
   },
   "cell_type": "code",
   "source": [
    "targets = []\n",
    "graph_info = []\n",
    "node_features = []\n",
    "\n",
    "for entry in data:\n",
    "    targets.append(entry[\"targets\"])\n",
    "    graph_info.append(entry[\"graph\"])\n",
    "    node_features.extend(entry[\"node_features\"])"
   ],
   "id": "9cd557cbd13773e",
   "outputs": [],
   "execution_count": 19
  },
  {
   "metadata": {
    "ExecuteTime": {
     "end_time": "2024-11-23T14:53:54.995149Z",
     "start_time": "2024-11-23T14:53:54.982622Z"
    }
   },
   "cell_type": "code",
   "source": "node_features_df = pd.DataFrame(node_features)",
   "id": "4cfca72541528d76",
   "outputs": [],
   "execution_count": 14
  },
  {
   "metadata": {
    "ExecuteTime": {
     "end_time": "2024-11-23T14:53:55.314450Z",
     "start_time": "2024-11-23T14:53:55.281953Z"
    }
   },
   "cell_type": "code",
   "source": "stats = node_features_df.describe()",
   "id": "27d66dac20202260",
   "outputs": [],
   "execution_count": 15
  },
  {
   "metadata": {
    "ExecuteTime": {
     "end_time": "2024-11-23T14:54:49.904287Z",
     "start_time": "2024-11-23T14:54:49.900549Z"
    }
   },
   "cell_type": "code",
   "source": [
    "graph_stats = {\n",
    "    \"nodes\": [len(set(range(len(graph)))) for graph in graph_info],\n",
    "    \"edges\": [sum(sum(1 for _ in row if _ > 0) for row in graph) for graph in graph_info],\n",
    "}"
   ],
   "id": "dd699a586c136d49",
   "outputs": [],
   "execution_count": 20
  },
  {
   "metadata": {
    "ExecuteTime": {
     "end_time": "2024-11-23T14:55:51.822676Z",
     "start_time": "2024-11-23T14:55:51.819993Z"
    }
   },
   "cell_type": "code",
   "source": [
    "graph_stats_df = pd.DataFrame(graph_stats)\n",
    "graph_stats_df.columns = ['Number of Nodes', 'Number of Edges']"
   ],
   "id": "3ac738dd291d3ff",
   "outputs": [],
   "execution_count": 22
  },
  {
   "metadata": {
    "ExecuteTime": {
     "end_time": "2024-11-23T14:55:57.821947Z",
     "start_time": "2024-11-23T14:55:57.815716Z"
    }
   },
   "cell_type": "code",
   "source": "graph_stats_df.to_csv('graph_stats.csv', index=False)",
   "id": "abc291b6a1e7ef00",
   "outputs": [],
   "execution_count": 23
  },
  {
   "metadata": {
    "ExecuteTime": {
     "end_time": "2024-11-23T14:56:07.952383Z",
     "start_time": "2024-11-23T14:56:07.805148Z"
    }
   },
   "cell_type": "code",
   "source": [
    "plt.hist(graph_stats_df['Number of Edges'], bins=10, alpha=0.7, edgecolor='black')\n",
    "plt.title(\"Distribution of Number of Edges\")\n",
    "plt.xlabel(\"Number of Edges\")\n",
    "plt.ylabel(\"Frequency\")\n",
    "plt.savefig('edge_distribution.png')  \n",
    "plt.show()"
   ],
   "id": "f2bd11c6af1b7e5d",
   "outputs": [
    {
     "data": {
      "text/plain": [
       "<Figure size 640x480 with 1 Axes>"
      ],
      "image/png": "[encoded data removed]"
     },
     "metadata": {},
     "output_type": "display_data"
    }
   ],
   "execution_count": 24
  },
  {
   "metadata": {
    "ExecuteTime": {
     "end_time": "2024-11-23T15:00:10.162350Z",
     "start_time": "2024-11-23T15:00:10.159067Z"
    }
   },
   "cell_type": "code",
   "source": "graph_stats_df['Target'] = targets",
   "id": "e09928902a38cf3d",
   "outputs": [],
   "execution_count": 25
  },
  {
   "metadata": {
    "ExecuteTime": {
     "end_time": "2024-11-23T15:00:56.282082Z",
     "start_time": "2024-11-23T15:00:56.274652Z"
    }
   },
   "cell_type": "code",
   "source": [
    "node_features_mean = node_features_df.mean(axis=0)\n",
    "combined_features = pd.concat(\n",
    "    [graph_stats_df.drop(columns=['Target']), pd.DataFrame(node_features_mean).T],\n",
    "    axis=1\n",
    ")\n",
    "combined_features['Target'] = targets"
   ],
   "id": "3e1eb70019573c7d",
   "outputs": [],
   "execution_count": 29
  },
  {
   "metadata": {
    "ExecuteTime": {
     "end_time": "2024-11-23T15:00:58.106799Z",
     "start_time": "2024-11-23T15:00:58.101402Z"
    }
   },
   "cell_type": "code",
   "source": "combined_features.columns = [f'Feature_{i}' for i in range(combined_features.shape[1] - 1)] + ['Target']",
   "id": "247b5598eaebf38b",
   "outputs": [],
   "execution_count": 30
  },
  {
   "metadata": {
    "ExecuteTime": {
     "end_time": "2024-11-23T15:00:58.799415Z",
     "start_time": "2024-11-23T15:00:58.791933Z"
    }
   },
   "cell_type": "code",
   "source": [
    "X = combined_features.drop(columns=['Target'])\n",
    "y = combined_features['Target']\n",
    "X_train, X_test, y_train, y_test = train_test_split(X, y, test_size=0.2, random_state=42)"
   ],
   "id": "dc55d47308b144b1",
   "outputs": [],
   "execution_count": 31
  },
  {
   "metadata": {
    "ExecuteTime": {
     "end_time": "2024-11-23T15:01:14.594417Z",
     "start_time": "2024-11-23T15:01:14.587148Z"
    }
   },
   "cell_type": "code",
   "source": [
    "X_train.to_csv('X_train.csv', index=False)\n",
    "X_test.to_csv('X_test.csv', index=False)\n",
    "y_train.to_csv('y_train.csv', index=False)\n",
    "y_test.to_csv('y_test.csv', index=False)\n",
    "\n",
    "print(\"Data has been successfully prepared and split into training and testing sets.\")"
   ],
   "id": "62c6a40afe691cf9",
   "outputs": [
    {
     "name": "stdout",
     "output_type": "stream",
     "text": [
      "Data has been successfully prepared and split into training and testing sets.\n"
     ]
    }
   ],
   "execution_count": 32
  },
  {
   "metadata": {},
   "cell_type": "code",
   "outputs": [],
   "execution_count": null,
   "source": "",
   "id": "809edc6c03e10e3b"
  }
 ],
 "metadata": {
  "kernelspec": {
   "display_name": "Python 3 (ipykernel)",
   "language": "python",
   "name": "python3"
  },
  "language_info": {
   "codemirror_mode": {
    "name": "ipython",
    "version": 2
   },
   "file_extension": ".py",
   "mimetype": "text/x-python",
   "name": "python",
   "nbconvert_exporter": "python",
   "pygments_lexer": "ipython2",
   "version": "2.7.6"
  }
 },
 "nbformat": 4,
 "nbformat_minor": 5
}
